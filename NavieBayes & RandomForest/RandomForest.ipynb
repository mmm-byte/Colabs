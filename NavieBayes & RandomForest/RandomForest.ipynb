{
  "nbformat": 4,
  "nbformat_minor": 0,
  "metadata": {
    "colab": {
      "provenance": [],
      "authorship_tag": "ABX9TyPkiZW7tfFDUKWEIMZrQ3e4",
      "include_colab_link": true
    },
    "kernelspec": {
      "name": "ir",
      "display_name": "R"
    },
    "language_info": {
      "name": "R"
    }
  },
  "cells": [
    {
      "cell_type": "markdown",
      "metadata": {
        "id": "view-in-github",
        "colab_type": "text"
      },
      "source": [
        "<a href=\"https://colab.research.google.com/github/mmm-byte/Colabs/blob/main/Untitled4.ipynb\" target=\"_parent\"><img src=\"https://colab.research.google.com/assets/colab-badge.svg\" alt=\"Open In Colab\"/></a>"
      ]
    },
    {
      "cell_type": "code",
      "execution_count": null,
      "metadata": {
        "colab": {
          "base_uri": "https://localhost:8080/"
        },
        "id": "BXA50zIW5Ypi",
        "outputId": "c0000eec-ad12-4b3b-d6bb-eb71236554f9"
      },
      "outputs": [
        {
          "output_type": "stream",
          "name": "stderr",
          "text": [
            "Installing package into ‘/usr/local/lib/R/site-library’\n",
            "(as ‘lib’ is unspecified)\n",
            "\n",
            "Installing package into ‘/usr/local/lib/R/site-library’\n",
            "(as ‘lib’ is unspecified)\n",
            "\n",
            "also installing the dependency ‘mnormt’\n",
            "\n",
            "\n",
            "naivebayes 0.9.7 loaded\n",
            "\n",
            "\n",
            "Attaching package: ‘dplyr’\n",
            "\n",
            "\n",
            "The following objects are masked from ‘package:stats’:\n",
            "\n",
            "    filter, lag\n",
            "\n",
            "\n",
            "The following objects are masked from ‘package:base’:\n",
            "\n",
            "    intersect, setdiff, setequal, union\n",
            "\n",
            "\n",
            "\n",
            "Attaching package: ‘psych’\n",
            "\n",
            "\n",
            "The following objects are masked from ‘package:ggplot2’:\n",
            "\n",
            "    %+%, alpha\n",
            "\n",
            "\n"
          ]
        }
      ],
      "source": [
        "install.packages(\"naivebayes\")\n",
        "install.packages('psych')\n",
        "library(naivebayes)\n",
        "library(dplyr)\n",
        "library(ggplot2)\n",
        "library(psych)\n"
      ]
    },
    {
      "cell_type": "code",
      "source": [
        "install.packages(\"randomForest\")\n",
        "install.packages(\"caret\")"
      ],
      "metadata": {
        "colab": {
          "base_uri": "https://localhost:8080/"
        },
        "id": "udKbodY-599c",
        "outputId": "834cc478-0452-44fb-cecb-b195d4a8c7cd"
      },
      "execution_count": null,
      "outputs": [
        {
          "output_type": "stream",
          "name": "stderr",
          "text": [
            "Installing package into ‘/usr/local/lib/R/site-library’\n",
            "(as ‘lib’ is unspecified)\n",
            "\n",
            "Installing package into ‘/usr/local/lib/R/site-library’\n",
            "(as ‘lib’ is unspecified)\n",
            "\n",
            "also installing the dependencies ‘listenv’, ‘parallelly’, ‘future’, ‘globals’, ‘shape’, ‘future.apply’, ‘numDeriv’, ‘progressr’, ‘SQUAREM’, ‘diagram’, ‘lava’, ‘prodlim’, ‘proxy’, ‘iterators’, ‘Rcpp’, ‘clock’, ‘gower’, ‘hardhat’, ‘ipred’, ‘timeDate’, ‘e1071’, ‘foreach’, ‘ModelMetrics’, ‘plyr’, ‘pROC’, ‘recipes’, ‘reshape2’\n",
            "\n",
            "\n"
          ]
        }
      ]
    },
    {
      "cell_type": "code",
      "source": [
        "library(randomForest)\n",
        "library(caret)"
      ],
      "metadata": {
        "id": "PYoYhdaN_0sH"
      },
      "execution_count": null,
      "outputs": []
    },
    {
      "cell_type": "code",
      "source": [
        "dataa <- read.csv(\"/content/sample_data/vishnu data.csv\", header = T)\n",
        "head(data)"
      ],
      "metadata": {
        "colab": {
          "base_uri": "https://localhost:8080/",
          "height": 427
        },
        "id": "lQta57EeAY5g",
        "outputId": "c436d781-0f30-493e-d5c0-54d6e1fa0715"
      },
      "execution_count": null,
      "outputs": [
        {
          "output_type": "display_data",
          "data": {
            "text/html": [
              "<table class=\"dataframe\">\n",
              "<caption>A data.frame: 6 × 15</caption>\n",
              "<thead>\n",
              "\t<tr><th></th><th scope=col>Age_band_of_driver</th><th scope=col>Sex_of_driver</th><th scope=col>Educational_level</th><th scope=col>Vehicle_driver_relation</th><th scope=col>Driving_experience</th><th scope=col>Lanes_or_Medians</th><th scope=col>Types_of_Junction</th><th scope=col>Road_surface_type</th><th scope=col>Light_conditions</th><th scope=col>Weather_conditions</th><th scope=col>Type_of_collision</th><th scope=col>Vehicle_movement</th><th scope=col>Pedestrian_movement</th><th scope=col>Cause_of_accident</th><th scope=col>Accident_severity</th></tr>\n",
              "\t<tr><th></th><th scope=col>&lt;chr&gt;</th><th scope=col>&lt;chr&gt;</th><th scope=col>&lt;chr&gt;</th><th scope=col>&lt;chr&gt;</th><th scope=col>&lt;chr&gt;</th><th scope=col>&lt;chr&gt;</th><th scope=col>&lt;chr&gt;</th><th scope=col>&lt;chr&gt;</th><th scope=col>&lt;chr&gt;</th><th scope=col>&lt;chr&gt;</th><th scope=col>&lt;chr&gt;</th><th scope=col>&lt;chr&gt;</th><th scope=col>&lt;chr&gt;</th><th scope=col>&lt;chr&gt;</th><th scope=col>&lt;int&gt;</th></tr>\n",
              "</thead>\n",
              "<tbody>\n",
              "\t<tr><th scope=row>1</th><td>18-30</td><td>Male</td><td>Above high school </td><td>Employee</td><td>1-2yr     </td><td>Unknown          </td><td>No junction</td><td>Asphalt roads</td><td>Daylight             </td><td>Normal</td><td>Collision with roadside-parked vehicles</td><td>Going straight</td><td>Not a Pedestrian</td><td>Moving Backward           </td><td>2</td></tr>\n",
              "\t<tr><th scope=row>2</th><td>31-50</td><td>Male</td><td>Junior high school</td><td>Employee</td><td>Above 10yr</td><td>Undivided Two way</td><td>No junction</td><td>Asphalt roads</td><td>Daylight             </td><td>Normal</td><td>Vehicle with vehicle collision         </td><td>Going straight</td><td>Not a Pedestrian</td><td>Overtaking                </td><td>2</td></tr>\n",
              "\t<tr><th scope=row>3</th><td>18-30</td><td>Male</td><td>Junior high school</td><td>Employee</td><td>1-2yr     </td><td>other            </td><td>No junction</td><td>Asphalt roads</td><td>Daylight             </td><td>Normal</td><td>Collision with roadside objects        </td><td>Going straight</td><td>Not a Pedestrian</td><td>Changing lane to the left </td><td>1</td></tr>\n",
              "\t<tr><th scope=row>4</th><td>18-30</td><td>Male</td><td>Junior high school</td><td>Employee</td><td>5-10yr    </td><td>other            </td><td>Y Shape    </td><td>Earth roads  </td><td>Darkness - lights lit</td><td>Normal</td><td>Vehicle with vehicle collision         </td><td>Going straight</td><td>Not a Pedestrian</td><td>Changing lane to the right</td><td>2</td></tr>\n",
              "\t<tr><th scope=row>5</th><td>18-30</td><td>Male</td><td>Junior high school</td><td>Employee</td><td>2-5yr     </td><td>other            </td><td>Y Shape    </td><td>Asphalt roads</td><td>Darkness - lights lit</td><td>Normal</td><td>Vehicle with vehicle collision         </td><td>Going straight</td><td>Not a Pedestrian</td><td>Overtaking                </td><td>2</td></tr>\n",
              "\t<tr><th scope=row>6</th><td>31-50</td><td>Male</td><td>Unknown           </td><td>Unknown </td><td>Unknown   </td><td>Unknown          </td><td>Y Shape    </td><td>Unknown      </td><td>Daylight             </td><td>Normal</td><td>Vehicle with vehicle collision         </td><td>U-Turn        </td><td>Not a Pedestrian</td><td>Overloading               </td><td>2</td></tr>\n",
              "</tbody>\n",
              "</table>\n"
            ],
            "text/markdown": "\nA data.frame: 6 × 15\n\n| <!--/--> | Age_band_of_driver &lt;chr&gt; | Sex_of_driver &lt;chr&gt; | Educational_level &lt;chr&gt; | Vehicle_driver_relation &lt;chr&gt; | Driving_experience &lt;chr&gt; | Lanes_or_Medians &lt;chr&gt; | Types_of_Junction &lt;chr&gt; | Road_surface_type &lt;chr&gt; | Light_conditions &lt;chr&gt; | Weather_conditions &lt;chr&gt; | Type_of_collision &lt;chr&gt; | Vehicle_movement &lt;chr&gt; | Pedestrian_movement &lt;chr&gt; | Cause_of_accident &lt;chr&gt; | Accident_severity &lt;int&gt; |\n|---|---|---|---|---|---|---|---|---|---|---|---|---|---|---|---|\n| 1 | 18-30 | Male | Above high school  | Employee | 1-2yr      | Unknown           | No junction | Asphalt roads | Daylight              | Normal | Collision with roadside-parked vehicles | Going straight | Not a Pedestrian | Moving Backward            | 2 |\n| 2 | 31-50 | Male | Junior high school | Employee | Above 10yr | Undivided Two way | No junction | Asphalt roads | Daylight              | Normal | Vehicle with vehicle collision          | Going straight | Not a Pedestrian | Overtaking                 | 2 |\n| 3 | 18-30 | Male | Junior high school | Employee | 1-2yr      | other             | No junction | Asphalt roads | Daylight              | Normal | Collision with roadside objects         | Going straight | Not a Pedestrian | Changing lane to the left  | 1 |\n| 4 | 18-30 | Male | Junior high school | Employee | 5-10yr     | other             | Y Shape     | Earth roads   | Darkness - lights lit | Normal | Vehicle with vehicle collision          | Going straight | Not a Pedestrian | Changing lane to the right | 2 |\n| 5 | 18-30 | Male | Junior high school | Employee | 2-5yr      | other             | Y Shape     | Asphalt roads | Darkness - lights lit | Normal | Vehicle with vehicle collision          | Going straight | Not a Pedestrian | Overtaking                 | 2 |\n| 6 | 31-50 | Male | Unknown            | Unknown  | Unknown    | Unknown           | Y Shape     | Unknown       | Daylight              | Normal | Vehicle with vehicle collision          | U-Turn         | Not a Pedestrian | Overloading                | 2 |\n\n",
            "text/latex": "A data.frame: 6 × 15\n\\begin{tabular}{r|lllllllllllllll}\n  & Age\\_band\\_of\\_driver & Sex\\_of\\_driver & Educational\\_level & Vehicle\\_driver\\_relation & Driving\\_experience & Lanes\\_or\\_Medians & Types\\_of\\_Junction & Road\\_surface\\_type & Light\\_conditions & Weather\\_conditions & Type\\_of\\_collision & Vehicle\\_movement & Pedestrian\\_movement & Cause\\_of\\_accident & Accident\\_severity\\\\\n  & <chr> & <chr> & <chr> & <chr> & <chr> & <chr> & <chr> & <chr> & <chr> & <chr> & <chr> & <chr> & <chr> & <chr> & <int>\\\\\n\\hline\n\t1 & 18-30 & Male & Above high school  & Employee & 1-2yr      & Unknown           & No junction & Asphalt roads & Daylight              & Normal & Collision with roadside-parked vehicles & Going straight & Not a Pedestrian & Moving Backward            & 2\\\\\n\t2 & 31-50 & Male & Junior high school & Employee & Above 10yr & Undivided Two way & No junction & Asphalt roads & Daylight              & Normal & Vehicle with vehicle collision          & Going straight & Not a Pedestrian & Overtaking                 & 2\\\\\n\t3 & 18-30 & Male & Junior high school & Employee & 1-2yr      & other             & No junction & Asphalt roads & Daylight              & Normal & Collision with roadside objects         & Going straight & Not a Pedestrian & Changing lane to the left  & 1\\\\\n\t4 & 18-30 & Male & Junior high school & Employee & 5-10yr     & other             & Y Shape     & Earth roads   & Darkness - lights lit & Normal & Vehicle with vehicle collision          & Going straight & Not a Pedestrian & Changing lane to the right & 2\\\\\n\t5 & 18-30 & Male & Junior high school & Employee & 2-5yr      & other             & Y Shape     & Asphalt roads & Darkness - lights lit & Normal & Vehicle with vehicle collision          & Going straight & Not a Pedestrian & Overtaking                 & 2\\\\\n\t6 & 31-50 & Male & Unknown            & Unknown  & Unknown    & Unknown           & Y Shape     & Unknown       & Daylight              & Normal & Vehicle with vehicle collision          & U-Turn         & Not a Pedestrian & Overloading                & 2\\\\\n\\end{tabular}\n",
            "text/plain": [
              "  Age_band_of_driver Sex_of_driver Educational_level  Vehicle_driver_relation\n",
              "1 18-30              Male          Above high school  Employee               \n",
              "2 31-50              Male          Junior high school Employee               \n",
              "3 18-30              Male          Junior high school Employee               \n",
              "4 18-30              Male          Junior high school Employee               \n",
              "5 18-30              Male          Junior high school Employee               \n",
              "6 31-50              Male          Unknown            Unknown                \n",
              "  Driving_experience Lanes_or_Medians  Types_of_Junction Road_surface_type\n",
              "1 1-2yr              Unknown           No junction       Asphalt roads    \n",
              "2 Above 10yr         Undivided Two way No junction       Asphalt roads    \n",
              "3 1-2yr              other             No junction       Asphalt roads    \n",
              "4 5-10yr             other             Y Shape           Earth roads      \n",
              "5 2-5yr              other             Y Shape           Asphalt roads    \n",
              "6 Unknown            Unknown           Y Shape           Unknown          \n",
              "  Light_conditions      Weather_conditions\n",
              "1 Daylight              Normal            \n",
              "2 Daylight              Normal            \n",
              "3 Daylight              Normal            \n",
              "4 Darkness - lights lit Normal            \n",
              "5 Darkness - lights lit Normal            \n",
              "6 Daylight              Normal            \n",
              "  Type_of_collision                       Vehicle_movement Pedestrian_movement\n",
              "1 Collision with roadside-parked vehicles Going straight   Not a Pedestrian   \n",
              "2 Vehicle with vehicle collision          Going straight   Not a Pedestrian   \n",
              "3 Collision with roadside objects         Going straight   Not a Pedestrian   \n",
              "4 Vehicle with vehicle collision          Going straight   Not a Pedestrian   \n",
              "5 Vehicle with vehicle collision          Going straight   Not a Pedestrian   \n",
              "6 Vehicle with vehicle collision          U-Turn           Not a Pedestrian   \n",
              "  Cause_of_accident          Accident_severity\n",
              "1 Moving Backward            2                \n",
              "2 Overtaking                 2                \n",
              "3 Changing lane to the left  1                \n",
              "4 Changing lane to the right 2                \n",
              "5 Overtaking                 2                \n",
              "6 Overloading                2                "
            ]
          },
          "metadata": {}
        }
      ]
    },
    {
      "cell_type": "code",
      "source": [
        "data(dataa)"
      ],
      "metadata": {
        "colab": {
          "base_uri": "https://localhost:8080/"
        },
        "id": "BdeL9p0RCni_",
        "outputId": "e25e4aff-93e0-461a-87bb-81dca0c598ed"
      },
      "execution_count": null,
      "outputs": [
        {
          "output_type": "stream",
          "name": "stderr",
          "text": [
            "Warning message in data(dataa):\n",
            "“data set ‘dataa’ not found”\n"
          ]
        }
      ]
    },
    {
      "cell_type": "code",
      "source": [
        "set.seed(123)\n",
        "trainIndex <- createDataPartition(dataa$Accident_severity, p = .8, list = FALSE)\n",
        "trainData <- dataa[trainIndex, ]\n",
        "testData <- dataa[-trainIndex, ]"
      ],
      "metadata": {
        "id": "Xfpz9btqCyw7"
      },
      "execution_count": null,
      "outputs": []
    },
    {
      "cell_type": "code",
      "source": [
        "rfModel <- randomForest(Accident_severity ~ ., data = trainData)"
      ],
      "metadata": {
        "colab": {
          "base_uri": "https://localhost:8080/"
        },
        "id": "kwnj55JUDpFQ",
        "outputId": "c7a4dc87-bc56-43da-df42-3280ed37909a"
      },
      "execution_count": null,
      "outputs": [
        {
          "output_type": "stream",
          "name": "stderr",
          "text": [
            "Warning message in randomForest.default(m, y, ...):\n",
            "“The response has five or fewer unique values.  Are you sure you want to do regression?”\n"
          ]
        }
      ]
    },
    {
      "cell_type": "code",
      "source": [
        "pred <- predict(rfModel, testData)"
      ],
      "metadata": {
        "id": "c3u4VhmMD54k"
      },
      "execution_count": null,
      "outputs": []
    },
    {
      "cell_type": "code",
      "source": [
        "confusionMatrix(pred, as.factor(testData$Accident_severity))"
      ],
      "metadata": {
        "colab": {
          "base_uri": "https://localhost:8080/",
          "height": 182
        },
        "id": "PTjK7gpAEEK1",
        "outputId": "e0c1bd96-0aac-4d0f-a14c-60b79abd5475"
      },
      "execution_count": null,
      "outputs": [
        {
          "output_type": "error",
          "ename": "ERROR",
          "evalue": "ignored",
          "traceback": [
            "Error: `data` and `reference` should be factors with the same levels.\nTraceback:\n",
            "1. confusionMatrix(pred, as.factor(testData$Accident_severity))",
            "2. confusionMatrix.default(pred, as.factor(testData$Accident_severity))",
            "3. stop(\"`data` and `reference` should be factors with the same levels.\", \n .     call. = FALSE)"
          ]
        }
      ]
    },
    {
      "cell_type": "code",
      "source": [
        "levels(trainData$Accident_severity)\n",
        "levels(testData$Accident_severity)"
      ],
      "metadata": {
        "colab": {
          "base_uri": "https://localhost:8080/",
          "height": 52
        },
        "id": "W86b7Rx7EORm",
        "outputId": "0112d5f0-8b3e-4bb6-8f99-5aefbb4880e3"
      },
      "execution_count": null,
      "outputs": [
        {
          "output_type": "display_data",
          "data": {
            "text/plain": [
              "NULL"
            ]
          },
          "metadata": {}
        },
        {
          "output_type": "display_data",
          "data": {
            "text/plain": [
              "NULL"
            ]
          },
          "metadata": {}
        }
      ]
    },
    {
      "cell_type": "code",
      "source": [],
      "metadata": {
        "id": "ZYjCeocbHr5l"
      },
      "execution_count": null,
      "outputs": []
    },
    {
      "cell_type": "code",
      "source": [
        "rfModel <- randomForest(Accident_severity ~ ., data = trainData)"
      ],
      "metadata": {
        "colab": {
          "base_uri": "https://localhost:8080/"
        },
        "id": "M3SQwIBjGNiP",
        "outputId": "0f8065d1-0d99-4c86-91ab-3b62fb469714"
      },
      "execution_count": null,
      "outputs": [
        {
          "output_type": "stream",
          "name": "stderr",
          "text": [
            "Warning message in randomForest.default(m, y, ...):\n",
            "“The response has five or fewer unique values.  Are you sure you want to do regression?”\n"
          ]
        }
      ]
    },
    {
      "cell_type": "code",
      "source": [
        "predictions <- predict(rfModel, testData)"
      ],
      "metadata": {
        "id": "ubn8R7o3GTlU"
      },
      "execution_count": null,
      "outputs": []
    },
    {
      "cell_type": "code",
      "source": [
        "confusionMatrix(predictions, testData$Accident_severity)"
      ],
      "metadata": {
        "colab": {
          "base_uri": "https://localhost:8080/",
          "height": 182
        },
        "id": "s-Yy8Gi2GeGt",
        "outputId": "a14e0c79-3ea5-4995-b440-2a3a7e32c47a"
      },
      "execution_count": null,
      "outputs": [
        {
          "output_type": "error",
          "ename": "ERROR",
          "evalue": "ignored",
          "traceback": [
            "Error: `data` and `reference` should be factors with the same levels.\nTraceback:\n",
            "1. confusionMatrix(predictions, testData$Accident_severity)",
            "2. confusionMatrix.default(predictions, testData$Accident_severity)",
            "3. stop(\"`data` and `reference` should be factors with the same levels.\", \n .     call. = FALSE)"
          ]
        }
      ]
    },
    {
      "cell_type": "code",
      "source": [],
      "metadata": {
        "id": "EsRrbGpjI4Gs"
      },
      "execution_count": null,
      "outputs": []
    },
    {
      "cell_type": "code",
      "source": [
        "trainData$Accident_severity <- factor(trainData$Accident_severity)\n",
        "testData$Accident_severity <- factor(testData$Accident_severity)"
      ],
      "metadata": {
        "id": "BHB_1cpkHtSG"
      },
      "execution_count": null,
      "outputs": []
    },
    {
      "cell_type": "code",
      "source": [
        "levels(trainData$Accident_severity)\n",
        "levels(testData$Accident_severity)"
      ],
      "metadata": {
        "colab": {
          "base_uri": "https://localhost:8080/",
          "height": 52
        },
        "id": "ysKET0uoHGKR",
        "outputId": "e7e79c4d-5a34-4df8-81c9-c64f39ae8d5f"
      },
      "execution_count": null,
      "outputs": [
        {
          "output_type": "display_data",
          "data": {
            "text/html": [
              "<style>\n",
              ".list-inline {list-style: none; margin:0; padding: 0}\n",
              ".list-inline>li {display: inline-block}\n",
              ".list-inline>li:not(:last-child)::after {content: \"\\00b7\"; padding: 0 .5ex}\n",
              "</style>\n",
              "<ol class=list-inline><li>'0'</li><li>'1'</li><li>'2'</li></ol>\n"
            ],
            "text/markdown": "1. '0'\n2. '1'\n3. '2'\n\n\n",
            "text/latex": "\\begin{enumerate*}\n\\item '0'\n\\item '1'\n\\item '2'\n\\end{enumerate*}\n",
            "text/plain": [
              "[1] \"0\" \"1\" \"2\""
            ]
          },
          "metadata": {}
        },
        {
          "output_type": "display_data",
          "data": {
            "text/html": [
              "<style>\n",
              ".list-inline {list-style: none; margin:0; padding: 0}\n",
              ".list-inline>li {display: inline-block}\n",
              ".list-inline>li:not(:last-child)::after {content: \"\\00b7\"; padding: 0 .5ex}\n",
              "</style>\n",
              "<ol class=list-inline><li>'1'</li><li>'2'</li></ol>\n"
            ],
            "text/markdown": "1. '1'\n2. '2'\n\n\n",
            "text/latex": "\\begin{enumerate*}\n\\item '1'\n\\item '2'\n\\end{enumerate*}\n",
            "text/plain": [
              "[1] \"1\" \"2\""
            ]
          },
          "metadata": {}
        }
      ]
    },
    {
      "cell_type": "code",
      "source": [
        "testData$Accident_severity <- factor(testData$Accident_severity, levels = levels(trainData$Accident_severity))"
      ],
      "metadata": {
        "id": "Zro_zmCGIYNO"
      },
      "execution_count": null,
      "outputs": []
    },
    {
      "cell_type": "code",
      "source": [
        "levels(trainData$Accident_severity)\n",
        "levels(testData$Accident_severity)"
      ],
      "metadata": {
        "colab": {
          "base_uri": "https://localhost:8080/",
          "height": 52
        },
        "id": "UURgTTk3InzL",
        "outputId": "c43ed54c-ce5d-4018-880e-fc383e337166"
      },
      "execution_count": null,
      "outputs": [
        {
          "output_type": "display_data",
          "data": {
            "text/html": [
              "<style>\n",
              ".list-inline {list-style: none; margin:0; padding: 0}\n",
              ".list-inline>li {display: inline-block}\n",
              ".list-inline>li:not(:last-child)::after {content: \"\\00b7\"; padding: 0 .5ex}\n",
              "</style>\n",
              "<ol class=list-inline><li>'0'</li><li>'1'</li><li>'2'</li></ol>\n"
            ],
            "text/markdown": "1. '0'\n2. '1'\n3. '2'\n\n\n",
            "text/latex": "\\begin{enumerate*}\n\\item '0'\n\\item '1'\n\\item '2'\n\\end{enumerate*}\n",
            "text/plain": [
              "[1] \"0\" \"1\" \"2\""
            ]
          },
          "metadata": {}
        },
        {
          "output_type": "display_data",
          "data": {
            "text/html": [
              "<style>\n",
              ".list-inline {list-style: none; margin:0; padding: 0}\n",
              ".list-inline>li {display: inline-block}\n",
              ".list-inline>li:not(:last-child)::after {content: \"\\00b7\"; padding: 0 .5ex}\n",
              "</style>\n",
              "<ol class=list-inline><li>'0'</li><li>'1'</li><li>'2'</li></ol>\n"
            ],
            "text/markdown": "1. '0'\n2. '1'\n3. '2'\n\n\n",
            "text/latex": "\\begin{enumerate*}\n\\item '0'\n\\item '1'\n\\item '2'\n\\end{enumerate*}\n",
            "text/plain": [
              "[1] \"0\" \"1\" \"2\""
            ]
          },
          "metadata": {}
        }
      ]
    },
    {
      "cell_type": "code",
      "source": [
        "rfModel <- randomForest(Accident_severity ~ ., data = trainData)"
      ],
      "metadata": {
        "id": "diPfpSwZIq1l"
      },
      "execution_count": null,
      "outputs": []
    },
    {
      "cell_type": "code",
      "source": [
        "predictions <- predict(rfModel, testData)"
      ],
      "metadata": {
        "id": "SinNdOWhIxyP"
      },
      "execution_count": null,
      "outputs": []
    },
    {
      "cell_type": "code",
      "source": [
        "confusionMatrix(predictions, testData$Accident_severity)"
      ],
      "metadata": {
        "colab": {
          "base_uri": "https://localhost:8080/",
          "height": 538
        },
        "id": "L79bIEJoI5rU",
        "outputId": "cbad242d-bb2a-48a2-dc54-ef71a4e1cddf"
      },
      "execution_count": null,
      "outputs": [
        {
          "output_type": "display_data",
          "data": {
            "text/plain": [
              "Confusion Matrix and Statistics\n",
              "\n",
              "          Reference\n",
              "Prediction   0   1   2\n",
              "         0   0   0   0\n",
              "         1   0   1   0\n",
              "         2   0  32 166\n",
              "\n",
              "Overall Statistics\n",
              "                                          \n",
              "               Accuracy : 0.8392          \n",
              "                 95% CI : (0.7806, 0.8873)\n",
              "    No Information Rate : 0.8342          \n",
              "    P-Value [Acc > NIR] : 0.4705          \n",
              "                                          \n",
              "                  Kappa : 0.0496          \n",
              "                                          \n",
              " Mcnemar's Test P-Value : NA              \n",
              "\n",
              "Statistics by Class:\n",
              "\n",
              "                     Class: 0 Class: 1 Class: 2\n",
              "Sensitivity                NA 0.030303   1.0000\n",
              "Specificity                 1 1.000000   0.0303\n",
              "Pos Pred Value             NA 1.000000   0.8384\n",
              "Neg Pred Value             NA 0.838384   1.0000\n",
              "Prevalence                  0 0.165829   0.8342\n",
              "Detection Rate              0 0.005025   0.8342\n",
              "Detection Prevalence        0 0.005025   0.9950\n",
              "Balanced Accuracy          NA 0.515152   0.5152"
            ]
          },
          "metadata": {}
        }
      ]
    },
    {
      "cell_type": "markdown",
      "source": [
        "The above is random Forest \n",
        "Below is Navie Bayes"
      ],
      "metadata": {
        "id": "WHR1NsYBLv87"
      }
    },
    {
      "cell_type": "code",
      "source": [
        "install.packages(\"e1071\")"
      ],
      "metadata": {
        "colab": {
          "base_uri": "https://localhost:8080/"
        },
        "id": "BP9G5x3gL0Vh",
        "outputId": "3ea049f4-6e09-4843-adf6-289185d0c588"
      },
      "execution_count": null,
      "outputs": [
        {
          "output_type": "stream",
          "name": "stderr",
          "text": [
            "Installing package into ‘/usr/local/lib/R/site-library’\n",
            "(as ‘lib’ is unspecified)\n",
            "\n"
          ]
        }
      ]
    },
    {
      "cell_type": "code",
      "source": [
        "library(e1071)\n",
        "head(dataa)"
      ],
      "metadata": {
        "colab": {
          "base_uri": "https://localhost:8080/",
          "height": 427
        },
        "id": "dn79YqfwL46S",
        "outputId": "7f4270d5-e3bf-4763-b323-9fd3d8175988"
      },
      "execution_count": null,
      "outputs": [
        {
          "output_type": "display_data",
          "data": {
            "text/html": [
              "<table class=\"dataframe\">\n",
              "<caption>A data.frame: 6 × 15</caption>\n",
              "<thead>\n",
              "\t<tr><th></th><th scope=col>Age_band_of_driver</th><th scope=col>Sex_of_driver</th><th scope=col>Educational_level</th><th scope=col>Vehicle_driver_relation</th><th scope=col>Driving_experience</th><th scope=col>Lanes_or_Medians</th><th scope=col>Types_of_Junction</th><th scope=col>Road_surface_type</th><th scope=col>Light_conditions</th><th scope=col>Weather_conditions</th><th scope=col>Type_of_collision</th><th scope=col>Vehicle_movement</th><th scope=col>Pedestrian_movement</th><th scope=col>Cause_of_accident</th><th scope=col>Accident_severity</th></tr>\n",
              "\t<tr><th></th><th scope=col>&lt;chr&gt;</th><th scope=col>&lt;chr&gt;</th><th scope=col>&lt;chr&gt;</th><th scope=col>&lt;chr&gt;</th><th scope=col>&lt;chr&gt;</th><th scope=col>&lt;chr&gt;</th><th scope=col>&lt;chr&gt;</th><th scope=col>&lt;chr&gt;</th><th scope=col>&lt;chr&gt;</th><th scope=col>&lt;chr&gt;</th><th scope=col>&lt;chr&gt;</th><th scope=col>&lt;chr&gt;</th><th scope=col>&lt;chr&gt;</th><th scope=col>&lt;chr&gt;</th><th scope=col>&lt;int&gt;</th></tr>\n",
              "</thead>\n",
              "<tbody>\n",
              "\t<tr><th scope=row>1</th><td>18-30</td><td>Male</td><td>Above high school </td><td>Employee</td><td>1-2yr     </td><td>Unknown          </td><td>No junction</td><td>Asphalt roads</td><td>Daylight             </td><td>Normal</td><td>Collision with roadside-parked vehicles</td><td>Going straight</td><td>Not a Pedestrian</td><td>Moving Backward           </td><td>2</td></tr>\n",
              "\t<tr><th scope=row>2</th><td>31-50</td><td>Male</td><td>Junior high school</td><td>Employee</td><td>Above 10yr</td><td>Undivided Two way</td><td>No junction</td><td>Asphalt roads</td><td>Daylight             </td><td>Normal</td><td>Vehicle with vehicle collision         </td><td>Going straight</td><td>Not a Pedestrian</td><td>Overtaking                </td><td>2</td></tr>\n",
              "\t<tr><th scope=row>3</th><td>18-30</td><td>Male</td><td>Junior high school</td><td>Employee</td><td>1-2yr     </td><td>other            </td><td>No junction</td><td>Asphalt roads</td><td>Daylight             </td><td>Normal</td><td>Collision with roadside objects        </td><td>Going straight</td><td>Not a Pedestrian</td><td>Changing lane to the left </td><td>1</td></tr>\n",
              "\t<tr><th scope=row>4</th><td>18-30</td><td>Male</td><td>Junior high school</td><td>Employee</td><td>5-10yr    </td><td>other            </td><td>Y Shape    </td><td>Earth roads  </td><td>Darkness - lights lit</td><td>Normal</td><td>Vehicle with vehicle collision         </td><td>Going straight</td><td>Not a Pedestrian</td><td>Changing lane to the right</td><td>2</td></tr>\n",
              "\t<tr><th scope=row>5</th><td>18-30</td><td>Male</td><td>Junior high school</td><td>Employee</td><td>2-5yr     </td><td>other            </td><td>Y Shape    </td><td>Asphalt roads</td><td>Darkness - lights lit</td><td>Normal</td><td>Vehicle with vehicle collision         </td><td>Going straight</td><td>Not a Pedestrian</td><td>Overtaking                </td><td>2</td></tr>\n",
              "\t<tr><th scope=row>6</th><td>31-50</td><td>Male</td><td>Unknown           </td><td>Unknown </td><td>Unknown   </td><td>Unknown          </td><td>Y Shape    </td><td>Unknown      </td><td>Daylight             </td><td>Normal</td><td>Vehicle with vehicle collision         </td><td>U-Turn        </td><td>Not a Pedestrian</td><td>Overloading               </td><td>2</td></tr>\n",
              "</tbody>\n",
              "</table>\n"
            ],
            "text/markdown": "\nA data.frame: 6 × 15\n\n| <!--/--> | Age_band_of_driver &lt;chr&gt; | Sex_of_driver &lt;chr&gt; | Educational_level &lt;chr&gt; | Vehicle_driver_relation &lt;chr&gt; | Driving_experience &lt;chr&gt; | Lanes_or_Medians &lt;chr&gt; | Types_of_Junction &lt;chr&gt; | Road_surface_type &lt;chr&gt; | Light_conditions &lt;chr&gt; | Weather_conditions &lt;chr&gt; | Type_of_collision &lt;chr&gt; | Vehicle_movement &lt;chr&gt; | Pedestrian_movement &lt;chr&gt; | Cause_of_accident &lt;chr&gt; | Accident_severity &lt;int&gt; |\n|---|---|---|---|---|---|---|---|---|---|---|---|---|---|---|---|\n| 1 | 18-30 | Male | Above high school  | Employee | 1-2yr      | Unknown           | No junction | Asphalt roads | Daylight              | Normal | Collision with roadside-parked vehicles | Going straight | Not a Pedestrian | Moving Backward            | 2 |\n| 2 | 31-50 | Male | Junior high school | Employee | Above 10yr | Undivided Two way | No junction | Asphalt roads | Daylight              | Normal | Vehicle with vehicle collision          | Going straight | Not a Pedestrian | Overtaking                 | 2 |\n| 3 | 18-30 | Male | Junior high school | Employee | 1-2yr      | other             | No junction | Asphalt roads | Daylight              | Normal | Collision with roadside objects         | Going straight | Not a Pedestrian | Changing lane to the left  | 1 |\n| 4 | 18-30 | Male | Junior high school | Employee | 5-10yr     | other             | Y Shape     | Earth roads   | Darkness - lights lit | Normal | Vehicle with vehicle collision          | Going straight | Not a Pedestrian | Changing lane to the right | 2 |\n| 5 | 18-30 | Male | Junior high school | Employee | 2-5yr      | other             | Y Shape     | Asphalt roads | Darkness - lights lit | Normal | Vehicle with vehicle collision          | Going straight | Not a Pedestrian | Overtaking                 | 2 |\n| 6 | 31-50 | Male | Unknown            | Unknown  | Unknown    | Unknown           | Y Shape     | Unknown       | Daylight              | Normal | Vehicle with vehicle collision          | U-Turn         | Not a Pedestrian | Overloading                | 2 |\n\n",
            "text/latex": "A data.frame: 6 × 15\n\\begin{tabular}{r|lllllllllllllll}\n  & Age\\_band\\_of\\_driver & Sex\\_of\\_driver & Educational\\_level & Vehicle\\_driver\\_relation & Driving\\_experience & Lanes\\_or\\_Medians & Types\\_of\\_Junction & Road\\_surface\\_type & Light\\_conditions & Weather\\_conditions & Type\\_of\\_collision & Vehicle\\_movement & Pedestrian\\_movement & Cause\\_of\\_accident & Accident\\_severity\\\\\n  & <chr> & <chr> & <chr> & <chr> & <chr> & <chr> & <chr> & <chr> & <chr> & <chr> & <chr> & <chr> & <chr> & <chr> & <int>\\\\\n\\hline\n\t1 & 18-30 & Male & Above high school  & Employee & 1-2yr      & Unknown           & No junction & Asphalt roads & Daylight              & Normal & Collision with roadside-parked vehicles & Going straight & Not a Pedestrian & Moving Backward            & 2\\\\\n\t2 & 31-50 & Male & Junior high school & Employee & Above 10yr & Undivided Two way & No junction & Asphalt roads & Daylight              & Normal & Vehicle with vehicle collision          & Going straight & Not a Pedestrian & Overtaking                 & 2\\\\\n\t3 & 18-30 & Male & Junior high school & Employee & 1-2yr      & other             & No junction & Asphalt roads & Daylight              & Normal & Collision with roadside objects         & Going straight & Not a Pedestrian & Changing lane to the left  & 1\\\\\n\t4 & 18-30 & Male & Junior high school & Employee & 5-10yr     & other             & Y Shape     & Earth roads   & Darkness - lights lit & Normal & Vehicle with vehicle collision          & Going straight & Not a Pedestrian & Changing lane to the right & 2\\\\\n\t5 & 18-30 & Male & Junior high school & Employee & 2-5yr      & other             & Y Shape     & Asphalt roads & Darkness - lights lit & Normal & Vehicle with vehicle collision          & Going straight & Not a Pedestrian & Overtaking                 & 2\\\\\n\t6 & 31-50 & Male & Unknown            & Unknown  & Unknown    & Unknown           & Y Shape     & Unknown       & Daylight              & Normal & Vehicle with vehicle collision          & U-Turn         & Not a Pedestrian & Overloading                & 2\\\\\n\\end{tabular}\n",
            "text/plain": [
              "  Age_band_of_driver Sex_of_driver Educational_level  Vehicle_driver_relation\n",
              "1 18-30              Male          Above high school  Employee               \n",
              "2 31-50              Male          Junior high school Employee               \n",
              "3 18-30              Male          Junior high school Employee               \n",
              "4 18-30              Male          Junior high school Employee               \n",
              "5 18-30              Male          Junior high school Employee               \n",
              "6 31-50              Male          Unknown            Unknown                \n",
              "  Driving_experience Lanes_or_Medians  Types_of_Junction Road_surface_type\n",
              "1 1-2yr              Unknown           No junction       Asphalt roads    \n",
              "2 Above 10yr         Undivided Two way No junction       Asphalt roads    \n",
              "3 1-2yr              other             No junction       Asphalt roads    \n",
              "4 5-10yr             other             Y Shape           Earth roads      \n",
              "5 2-5yr              other             Y Shape           Asphalt roads    \n",
              "6 Unknown            Unknown           Y Shape           Unknown          \n",
              "  Light_conditions      Weather_conditions\n",
              "1 Daylight              Normal            \n",
              "2 Daylight              Normal            \n",
              "3 Daylight              Normal            \n",
              "4 Darkness - lights lit Normal            \n",
              "5 Darkness - lights lit Normal            \n",
              "6 Daylight              Normal            \n",
              "  Type_of_collision                       Vehicle_movement Pedestrian_movement\n",
              "1 Collision with roadside-parked vehicles Going straight   Not a Pedestrian   \n",
              "2 Vehicle with vehicle collision          Going straight   Not a Pedestrian   \n",
              "3 Collision with roadside objects         Going straight   Not a Pedestrian   \n",
              "4 Vehicle with vehicle collision          Going straight   Not a Pedestrian   \n",
              "5 Vehicle with vehicle collision          Going straight   Not a Pedestrian   \n",
              "6 Vehicle with vehicle collision          U-Turn           Not a Pedestrian   \n",
              "  Cause_of_accident          Accident_severity\n",
              "1 Moving Backward            2                \n",
              "2 Overtaking                 2                \n",
              "3 Changing lane to the left  1                \n",
              "4 Changing lane to the right 2                \n",
              "5 Overtaking                 2                \n",
              "6 Overloading                2                "
            ]
          },
          "metadata": {}
        }
      ]
    },
    {
      "cell_type": "code",
      "source": [
        "trainIndex <- sample(1:nrow(dataa), 0.7*nrow(dataa))\n",
        "trainData <- dataa[trainIndex, ]\n",
        "testData <- dataa[-trainIndex, ]\n"
      ],
      "metadata": {
        "id": "MR0QF50XL-JR"
      },
      "execution_count": null,
      "outputs": []
    },
    {
      "cell_type": "code",
      "source": [
        "nbmodel <- naiveBayes(Accident_severity ~ ., data = trainData)"
      ],
      "metadata": {
        "id": "yj-7Fs91MjY_"
      },
      "execution_count": null,
      "outputs": []
    },
    {
      "cell_type": "code",
      "source": [
        "install.packages(\"naivebayes\")"
      ],
      "metadata": {
        "colab": {
          "base_uri": "https://localhost:8080/"
        },
        "id": "s9aMoj-LMvM0",
        "outputId": "952ae3d6-d93e-443d-be63-8e4ba997cafa"
      },
      "execution_count": null,
      "outputs": [
        {
          "output_type": "stream",
          "name": "stderr",
          "text": [
            "Installing package into ‘/usr/local/lib/R/site-library’\n",
            "(as ‘lib’ is unspecified)\n",
            "\n"
          ]
        }
      ]
    },
    {
      "cell_type": "code",
      "source": [
        "nbpredictions <- predict(nbmodel, testData)"
      ],
      "metadata": {
        "id": "2TLm0qzFM2w2"
      },
      "execution_count": null,
      "outputs": []
    },
    {
      "cell_type": "code",
      "source": [
        "confusionMatrix(nbpredictions, testData$Accident_severity)"
      ],
      "metadata": {
        "colab": {
          "base_uri": "https://localhost:8080/",
          "height": 182
        },
        "id": "S2elkbgaNObd",
        "outputId": "cc34b2aa-2ecb-450c-c39e-020570cce561"
      },
      "execution_count": null,
      "outputs": [
        {
          "output_type": "error",
          "ename": "ERROR",
          "evalue": "ignored",
          "traceback": [
            "Error: `data` and `reference` should be factors with the same levels.\nTraceback:\n",
            "1. confusionMatrix(nbpredictions, testData$Accident_severity)",
            "2. confusionMatrix.default(nbpredictions, testData$Accident_severity)",
            "3. stop(\"`data` and `reference` should be factors with the same levels.\", \n .     call. = FALSE)"
          ]
        }
      ]
    },
    {
      "cell_type": "code",
      "source": [
        "testData$Accident_severity <- factor(testData$Accident_severity, levels = levels(trainData$Accident_severity))"
      ],
      "metadata": {
        "id": "JH3C9MtLNoBK"
      },
      "execution_count": null,
      "outputs": []
    },
    {
      "cell_type": "code",
      "source": [
        "levels(trainData$Accident_severity)\n",
        "levels(testData$Accident_severity)"
      ],
      "metadata": {
        "colab": {
          "base_uri": "https://localhost:8080/",
          "height": 52
        },
        "id": "Z8FC0aOtNpe6",
        "outputId": "aac486de-a1ad-45de-cb69-e7c68368d798"
      },
      "execution_count": null,
      "outputs": [
        {
          "output_type": "display_data",
          "data": {
            "text/html": [
              "<style>\n",
              ".list-inline {list-style: none; margin:0; padding: 0}\n",
              ".list-inline>li {display: inline-block}\n",
              ".list-inline>li:not(:last-child)::after {content: \"\\00b7\"; padding: 0 .5ex}\n",
              "</style>\n",
              "<ol class=list-inline><li>'0'</li><li>'1'</li><li>'2'</li></ol>\n"
            ],
            "text/markdown": "1. '0'\n2. '1'\n3. '2'\n\n\n",
            "text/latex": "\\begin{enumerate*}\n\\item '0'\n\\item '1'\n\\item '2'\n\\end{enumerate*}\n",
            "text/plain": [
              "[1] \"0\" \"1\" \"2\""
            ]
          },
          "metadata": {}
        },
        {
          "output_type": "display_data",
          "data": {
            "text/html": [
              "<style>\n",
              ".list-inline {list-style: none; margin:0; padding: 0}\n",
              ".list-inline>li {display: inline-block}\n",
              ".list-inline>li:not(:last-child)::after {content: \"\\00b7\"; padding: 0 .5ex}\n",
              "</style>\n",
              "<ol class=list-inline><li>'0'</li><li>'1'</li><li>'2'</li></ol>\n"
            ],
            "text/markdown": "1. '0'\n2. '1'\n3. '2'\n\n\n",
            "text/latex": "\\begin{enumerate*}\n\\item '0'\n\\item '1'\n\\item '2'\n\\end{enumerate*}\n",
            "text/plain": [
              "[1] \"0\" \"1\" \"2\""
            ]
          },
          "metadata": {}
        }
      ]
    },
    {
      "cell_type": "code",
      "source": [
        "trainData$Accident_severity <- factor(trainData$Accident_severity)\n",
        "testData$Accident_severity <- factor(testData$Accident_severity)"
      ],
      "metadata": {
        "id": "VCvscwFcN51a"
      },
      "execution_count": null,
      "outputs": []
    },
    {
      "cell_type": "code",
      "source": [
        "testData$Accident_severity <- factor(testData$Accident_severity, levels = levels(trainData$Accident_severity))"
      ],
      "metadata": {
        "id": "qTQ9XYb3OlqL"
      },
      "execution_count": null,
      "outputs": []
    },
    {
      "cell_type": "code",
      "source": [
        "levels(trainData$Accident_severity)\n",
        "levels(testData$Accident_severity)"
      ],
      "metadata": {
        "colab": {
          "base_uri": "https://localhost:8080/",
          "height": 52
        },
        "id": "osP4rIHtOdm0",
        "outputId": "295ee551-2f39-4726-f289-6c535878724e"
      },
      "execution_count": null,
      "outputs": [
        {
          "output_type": "display_data",
          "data": {
            "text/html": [
              "<style>\n",
              ".list-inline {list-style: none; margin:0; padding: 0}\n",
              ".list-inline>li {display: inline-block}\n",
              ".list-inline>li:not(:last-child)::after {content: \"\\00b7\"; padding: 0 .5ex}\n",
              "</style>\n",
              "<ol class=list-inline><li>'0'</li><li>'1'</li><li>'2'</li></ol>\n"
            ],
            "text/markdown": "1. '0'\n2. '1'\n3. '2'\n\n\n",
            "text/latex": "\\begin{enumerate*}\n\\item '0'\n\\item '1'\n\\item '2'\n\\end{enumerate*}\n",
            "text/plain": [
              "[1] \"0\" \"1\" \"2\""
            ]
          },
          "metadata": {}
        },
        {
          "output_type": "display_data",
          "data": {
            "text/html": [
              "<style>\n",
              ".list-inline {list-style: none; margin:0; padding: 0}\n",
              ".list-inline>li {display: inline-block}\n",
              ".list-inline>li:not(:last-child)::after {content: \"\\00b7\"; padding: 0 .5ex}\n",
              "</style>\n",
              "<ol class=list-inline><li>'0'</li><li>'1'</li><li>'2'</li></ol>\n"
            ],
            "text/markdown": "1. '0'\n2. '1'\n3. '2'\n\n\n",
            "text/latex": "\\begin{enumerate*}\n\\item '0'\n\\item '1'\n\\item '2'\n\\end{enumerate*}\n",
            "text/plain": [
              "[1] \"0\" \"1\" \"2\""
            ]
          },
          "metadata": {}
        }
      ]
    },
    {
      "cell_type": "code",
      "source": [
        "nbmodel <- naiveBayes(Accident_severity ~ ., data = trainData)"
      ],
      "metadata": {
        "id": "Htsyz1PaOtaJ"
      },
      "execution_count": null,
      "outputs": []
    },
    {
      "cell_type": "code",
      "source": [
        "nbpredictions <- predict(nbmodel, testData)"
      ],
      "metadata": {
        "id": "K7sdgWVmOvNz"
      },
      "execution_count": null,
      "outputs": []
    },
    {
      "cell_type": "code",
      "source": [
        "confusionMatrix(nbpredictions, testData$Accident_severity)"
      ],
      "metadata": {
        "colab": {
          "base_uri": "https://localhost:8080/",
          "height": 538
        },
        "id": "PWodD836OTsU",
        "outputId": "d11c8fdf-11e2-452a-b1b2-001ad81fcd25"
      },
      "execution_count": null,
      "outputs": [
        {
          "output_type": "display_data",
          "data": {
            "text/plain": [
              "Confusion Matrix and Statistics\n",
              "\n",
              "          Reference\n",
              "Prediction 0 1 2\n",
              "         0 0 0 0\n",
              "         1 0 0 0\n",
              "         2 0 0 0\n",
              "\n",
              "Overall Statistics\n",
              "                                  \n",
              "               Accuracy : NaN     \n",
              "                 95% CI : (NA, NA)\n",
              "    No Information Rate : NA      \n",
              "    P-Value [Acc > NIR] : NA      \n",
              "                                  \n",
              "                  Kappa : NaN     \n",
              "                                  \n",
              " Mcnemar's Test P-Value : NA      \n",
              "\n",
              "Statistics by Class:\n",
              "\n",
              "                     Class: 0 Class: 1 Class: 2\n",
              "Sensitivity                NA       NA       NA\n",
              "Specificity                NA       NA       NA\n",
              "Pos Pred Value             NA       NA       NA\n",
              "Neg Pred Value             NA       NA       NA\n",
              "Prevalence                NaN      NaN      NaN\n",
              "Detection Rate            NaN      NaN      NaN\n",
              "Detection Prevalence      NaN      NaN      NaN\n",
              "Balanced Accuracy          NA       NA       NA"
            ]
          },
          "metadata": {}
        }
      ]
    }
  ]
}
